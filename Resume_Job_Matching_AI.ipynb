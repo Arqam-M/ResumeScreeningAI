{
 "cells": [
  {
   "cell_type": "code",
   "execution_count": 1,
   "id": "b26b1808-e6e8-4f66-b19c-00e1b344e1f0",
   "metadata": {},
   "outputs": [
    {
     "name": "stderr",
     "output_type": "stream",
     "text": [
      "[nltk_data] Downloading package punkt to\n",
      "[nltk_data]     C:\\Users\\delld\\AppData\\Roaming\\nltk_data...\n",
      "[nltk_data]   Unzipping tokenizers\\punkt.zip.\n"
     ]
    },
    {
     "name": "stdout",
     "output_type": "stream",
     "text": [
      "✅ All libraries loaded.\n"
     ]
    }
   ],
   "source": [
    "import os\n",
    "import spacy\n",
    "import nltk\n",
    "from sklearn.feature_extraction.text import TfidfVectorizer\n",
    "from sklearn.metrics.pairwise import cosine_similarity\n",
    "import pandas as pd\n",
    "import numpy as np\n",
    "\n",
    "# Download NLTK tokenizer models (only once)\n",
    "nltk.download('punkt')\n",
    "\n",
    "print(\"✅ All libraries loaded.\")\n"
   ]
  },
  {
   "cell_type": "code",
   "execution_count": 2,
   "id": "9ee36bca-8193-4de2-8963-8728e435beb9",
   "metadata": {},
   "outputs": [
    {
     "name": "stdout",
     "output_type": "stream",
     "text": [
      "✅ Sample resumes and job descriptions loaded.\n"
     ]
    }
   ],
   "source": [
    "# Sample resumes (replace with your actual resume content later)\n",
    "resumes = [\n",
    "    \"Experienced data scientist with a strong background in machine learning, Python, and data analysis. Worked on predictive modeling and customer segmentation projects.\",\n",
    "    \"AI/ML engineer skilled in Python, TensorFlow, and computer vision. Developed deep learning models for image classification and object detection.\",\n",
    "    \"Entry-level data analyst familiar with SQL, Excel, Power BI, and basic statistics. Completed internship in sales data visualization and reporting.\"\n",
    "]\n",
    "\n",
    "# Sample job descriptions (replace with actual job posts)\n",
    "job_descriptions = [\n",
    "    \"Looking for a data scientist with experience in Python, machine learning, and predictive analytics to work on customer churn models.\",\n",
    "    \"Hiring an AI engineer skilled in deep learning, computer vision, and TensorFlow for image processing tasks.\",\n",
    "    \"Need a junior data analyst with skills in Excel, Power BI, and data visualization to support our sales team.\"\n",
    "]\n",
    "\n",
    "print(\"✅ Sample resumes and job descriptions loaded.\")\n"
   ]
  },
  {
   "cell_type": "code",
   "execution_count": 3,
   "id": "38572e75-b992-4d72-b633-0624d9485178",
   "metadata": {},
   "outputs": [
    {
     "name": "stdout",
     "output_type": "stream",
     "text": [
      "✅ Similarity Matrix:\n"
     ]
    },
    {
     "data": {
      "text/html": [
       "<div>\n",
       "<style scoped>\n",
       "    .dataframe tbody tr th:only-of-type {\n",
       "        vertical-align: middle;\n",
       "    }\n",
       "\n",
       "    .dataframe tbody tr th {\n",
       "        vertical-align: top;\n",
       "    }\n",
       "\n",
       "    .dataframe thead th {\n",
       "        text-align: right;\n",
       "    }\n",
       "</style>\n",
       "<table border=\"1\" class=\"dataframe\">\n",
       "  <thead>\n",
       "    <tr style=\"text-align: right;\">\n",
       "      <th></th>\n",
       "      <th>Job 1</th>\n",
       "      <th>Job 2</th>\n",
       "      <th>Job 3</th>\n",
       "    </tr>\n",
       "  </thead>\n",
       "  <tbody>\n",
       "    <tr>\n",
       "      <th>Resume 1</th>\n",
       "      <td>0.434128</td>\n",
       "      <td>0.074930</td>\n",
       "      <td>0.169610</td>\n",
       "    </tr>\n",
       "    <tr>\n",
       "      <th>Resume 2</th>\n",
       "      <td>0.202421</td>\n",
       "      <td>0.571704</td>\n",
       "      <td>0.045118</td>\n",
       "    </tr>\n",
       "    <tr>\n",
       "      <th>Resume 3</th>\n",
       "      <td>0.119118</td>\n",
       "      <td>0.045698</td>\n",
       "      <td>0.448240</td>\n",
       "    </tr>\n",
       "  </tbody>\n",
       "</table>\n",
       "</div>"
      ],
      "text/plain": [
       "             Job 1     Job 2     Job 3\n",
       "Resume 1  0.434128  0.074930  0.169610\n",
       "Resume 2  0.202421  0.571704  0.045118\n",
       "Resume 3  0.119118  0.045698  0.448240"
      ]
     },
     "execution_count": 3,
     "metadata": {},
     "output_type": "execute_result"
    }
   ],
   "source": [
    "# Combine all resumes and job descriptions for vectorization\n",
    "all_texts = resumes + job_descriptions\n",
    "\n",
    "# Initialize TF-IDF Vectorizer\n",
    "vectorizer = TfidfVectorizer()\n",
    "tfidf_matrix = vectorizer.fit_transform(all_texts)\n",
    "\n",
    "# Split back the vectors\n",
    "resume_vectors = tfidf_matrix[:len(resumes)]\n",
    "job_vectors = tfidf_matrix[len(resumes):]\n",
    "\n",
    "# Compute cosine similarity between each resume and job description\n",
    "similarity_matrix = cosine_similarity(resume_vectors, job_vectors)\n",
    "\n",
    "# Display similarity scores\n",
    "similarity_df = pd.DataFrame(similarity_matrix, \n",
    "                             index=[f\"Resume {i+1}\" for i in range(len(resumes))],\n",
    "                             columns=[f\"Job {j+1}\" for j in range(len(job_descriptions))])\n",
    "\n",
    "print(\"✅ Similarity Matrix:\")\n",
    "similarity_df\n"
   ]
  },
  {
   "cell_type": "code",
   "execution_count": 5,
   "id": "26a35a05-42d9-420c-aa05-e13b15426be4",
   "metadata": {},
   "outputs": [
    {
     "name": "stdout",
     "output_type": "stream",
     "text": [
      "🧾 Resume 1 best matches with Job 1 (Score: 0.43)\n",
      "🧾 Resume 2 best matches with Job 2 (Score: 0.57)\n",
      "🧾 Resume 3 best matches with Job 3 (Score: 0.45)\n"
     ]
    }
   ],
   "source": [
    "# Find the best job match for each resume\n",
    "best_matches = similarity_df.idxmax(axis=1)\n",
    "best_scores = similarity_df.max(axis=1)\n",
    "\n",
    "for i in range(len(best_matches)):\n",
    "    print(f\"🧾 Resume {i+1} best matches with {best_matches.iloc[i]} (Score: {best_scores.iloc[i]:.2f})\")\n",
    "\n"
   ]
  },
  {
   "cell_type": "code",
   "execution_count": 6,
   "id": "b985733e-ba3e-4cd9-a6b5-276c10f458f3",
   "metadata": {},
   "outputs": [
    {
     "name": "stdout",
     "output_type": "stream",
     "text": [
      "✅ Results saved to 'resume_job_matching_results.csv'\n"
     ]
    }
   ],
   "source": [
    "# Create a DataFrame with results\n",
    "results_df = pd.DataFrame({\n",
    "    'Resume': [f'Resume {i+1}' for i in range(len(best_matches))],\n",
    "    'Best Matching Job': best_matches.values,\n",
    "    'Similarity Score': best_scores.values\n",
    "})\n",
    "\n",
    "# Save to CSV\n",
    "results_df.to_csv('resume_job_matching_results.csv', index=False)\n",
    "print(\"✅ Results saved to 'resume_job_matching_results.csv'\")\n"
   ]
  },
  {
   "cell_type": "code",
   "execution_count": null,
   "id": "fae32550-6a32-4e61-9e08-40e078dee30f",
   "metadata": {},
   "outputs": [],
   "source": []
  }
 ],
 "metadata": {
  "kernelspec": {
   "display_name": "Python 3 (ipykernel)",
   "language": "python",
   "name": "python3"
  },
  "language_info": {
   "codemirror_mode": {
    "name": "ipython",
    "version": 3
   },
   "file_extension": ".py",
   "mimetype": "text/x-python",
   "name": "python",
   "nbconvert_exporter": "python",
   "pygments_lexer": "ipython3",
   "version": "3.10.18"
  }
 },
 "nbformat": 4,
 "nbformat_minor": 5
}
